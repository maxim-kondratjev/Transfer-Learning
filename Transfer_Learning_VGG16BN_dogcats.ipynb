{
  "nbformat": 4,
  "nbformat_minor": 0,
  "metadata": {
    "colab": {
      "name": "Transfer Learning VGG16BN dogcats",
      "version": "0.3.2",
      "provenance": [],
      "collapsed_sections": []
    },
    "kernelspec": {
      "name": "python3",
      "display_name": "Python 3"
    },
    "accelerator": "GPU"
  },
  "cells": [
    {
      "metadata": {
        "id": "OQEJRefYWzyq",
        "colab_type": "code",
        "colab": {}
      },
      "cell_type": "code",
      "source": [
        "# http://pytorch.org/\n",
        "from os.path import exists\n",
        "from wheel.pep425tags import get_abbr_impl, get_impl_ver, get_abi_tag\n",
        "platform = '{}{}-{}'.format(get_abbr_impl(), get_impl_ver(), get_abi_tag())\n",
        "cuda_output = !ldconfig -p|grep cudart.so|sed -e 's/.*\\.\\([0-9]*\\)\\.\\([0-9]*\\)$/cu\\1\\2/'\n",
        "accelerator = cuda_output[0] if exists('/dev/nvidia0') else 'cpu'\n",
        "\n",
        "!pip install -q http://download.pytorch.org/whl/{accelerator}/torch-0.4.1-{platform}-linux_x86_64.whl torchvision\n",
        "import torch"
      ],
      "execution_count": 0,
      "outputs": []
    },
    {
      "metadata": {
        "id": "YiucJGoB9hUJ",
        "colab_type": "code",
        "colab": {}
      },
      "cell_type": "code",
      "source": [
        "accelerator"
      ],
      "execution_count": 0,
      "outputs": []
    },
    {
      "metadata": {
        "id": "bEKZAjW1sk3E",
        "colab_type": "code",
        "colab": {}
      },
      "cell_type": "code",
      "source": [
        "!pip install Pillow==4.0.0\n",
        "!pip install PIL\n",
        "!pip install image"
      ],
      "execution_count": 0,
      "outputs": []
    },
    {
      "metadata": {
        "id": "iPU8wA71opai",
        "colab_type": "code",
        "colab": {}
      },
      "cell_type": "code",
      "source": [
        "from google.colab import drive\n",
        "drive.mount('/gdrive')"
      ],
      "execution_count": 0,
      "outputs": []
    },
    {
      "metadata": {
        "id": "NVv1pgdzpWL5",
        "colab_type": "code",
        "colab": {}
      },
      "cell_type": "code",
      "source": [
        "!ls -la /gdrive/My\\ Drive/ML"
      ],
      "execution_count": 0,
      "outputs": []
    },
    {
      "metadata": {
        "id": "h78SGA_oopbl",
        "colab_type": "code",
        "colab": {}
      },
      "cell_type": "code",
      "source": [
        "!cp /gdrive/My\\ Drive/ML/dogscats_train.tar.gz .\n",
        "!ls .\n",
        "!tar -xvf dogscats_train.tar.gz"
      ],
      "execution_count": 0,
      "outputs": []
    },
    {
      "metadata": {
        "id": "C8wWNNuHX8L_",
        "colab_type": "code",
        "colab": {}
      },
      "cell_type": "code",
      "source": [
        "import torchvision.models as models\n",
        "alexnet = models.alexnet()\n",
        "alexnet"
      ],
      "execution_count": 0,
      "outputs": []
    },
    {
      "metadata": {
        "id": "TC8jtOEnYrmN",
        "colab_type": "code",
        "colab": {}
      },
      "cell_type": "code",
      "source": [
        "vgg = models.vgg16_bn(pretrained=True)\n",
        "vgg"
      ],
      "execution_count": 0,
      "outputs": []
    },
    {
      "metadata": {
        "id": "HM_o1Qko37j2",
        "colab_type": "code",
        "colab": {}
      },
      "cell_type": "code",
      "source": [
        "import torch.nn as nn\n",
        "\n",
        "num_classes = 2\n",
        "vgg.classifier[-1] = nn.Linear(in_features=4096, out_features=num_classes)\n",
        "vgg"
      ],
      "execution_count": 0,
      "outputs": []
    },
    {
      "metadata": {
        "id": "2LLM66Z5YtYE",
        "colab_type": "code",
        "colab": {}
      },
      "cell_type": "code",
      "source": [
        "from  torchvision.datasets import ImageFolder\n",
        "import torchvision.transforms as transforms\n",
        "import numpy as np\n",
        "\n",
        "IMAGE_FOLDER_ROOT = 'sample_data/dogscats/train'\n",
        "\n",
        "normalize = transforms.Normalize(mean=[0.485, 0.456, 0.406], std=[0.229, 0.224, 0.225])\n",
        "\n",
        "dataset = ImageFolder(IMAGE_FOLDER_ROOT,transform=transforms.Compose([transforms.Resize(256),transforms.RandomCrop(224),transforms.ToTensor(),normalize]))\n",
        "\n",
        "validation_split = 0.25\n",
        "indices = list(range(len(dataset)))\n",
        "split = int(np.floor(validation_split * len(dataset)))\n",
        "np.random.shuffle(indices)\n",
        "train_indices, val_indices = indices[split:], indices[:split]\n",
        " \n",
        "train_sampler = torch.utils.data.SubsetRandomSampler(train_indices)\n",
        "valid_sampler = torch.utils.data.SubsetRandomSampler(val_indices)\n",
        "\n",
        "train_loader = torch.utils.data.DataLoader(dataset, batch_size=16, \n",
        "                                           sampler=train_sampler)\n",
        "validation_loader = torch.utils.data.DataLoader(dataset, batch_size=16,\n",
        "                                                sampler=valid_sampler)\n",
        "print(len(train_indices),len(val_indices))"
      ],
      "execution_count": 0,
      "outputs": []
    },
    {
      "metadata": {
        "colab_type": "code",
        "id": "5COE_FnVpx10",
        "colab": {}
      },
      "cell_type": "code",
      "source": [
        "import torch.optim\n",
        "import matplotlib.pyplot as plt\n",
        "import numpy as np\n",
        "\n",
        "def accuracy(output,labels):\n",
        "  predictions = torch.argmax(output,dim=1)\n",
        "  correct = (predictions == labels).sum().cpu().numpy()\n",
        "  return correct / len(labels)\n",
        "\n",
        "device = torch.device('cuda:0' if torch.cuda.is_available() else 'cpu')\n",
        "vgg.to(device)\n",
        "vgg.eval()\n",
        "\n",
        "accuracies = []\n",
        "with torch.no_grad():\n",
        "  for itr,x in enumerate(validation_loader):\n",
        "    data = x[0]\n",
        "    labels = x[1]\n",
        "\n",
        "    data = data.to(device)\n",
        "\n",
        "    y_pred = vgg.forward(data)\n",
        "    acc = accuracy(y_pred,labels)\n",
        "    accuracies.append(acc)\n",
        "    print(device,itr,'/',len(validation_loader),acc)\n",
        "\n",
        "\n",
        "print('accuracy {:.2f}'.format(np.mean(accuracies)))"
      ],
      "execution_count": 0,
      "outputs": []
    },
    {
      "metadata": {
        "id": "0tCMk2cfsnIF",
        "colab_type": "code",
        "colab": {}
      },
      "cell_type": "code",
      "source": [
        "from torch.optim import lr_scheduler\n",
        "\n",
        "criterion = nn.CrossEntropyLoss()\n",
        "\n",
        "optimizer = torch.optim.SGD(vgg.parameters(), lr=0.001, momentum=0.9)\n",
        "\n",
        "# Decay LR by a factor of 0.1 every 7 epochs\n",
        "exp_lr_scheduler = lr_scheduler.StepLR(optimizer, step_size=7, gamma=0.1)\n",
        "vgg.to(device)\n",
        "vgg.train()\n",
        "\n",
        "\n",
        "for epoch in range(1):\n",
        "  for itr,x in enumerate(train_loader):\n",
        "    data = x[0]\n",
        "    labels = x[1]\n",
        "\n",
        "    optimizer.zero_grad()\n",
        "\n",
        "    data = data.to(device)\n",
        "    labels = labels.to(device)\n",
        "\n",
        "    y_pred = vgg.forward(data)\n",
        "    loss = criterion(y_pred,labels)\n",
        "\n",
        "    loss.backward()\n",
        "    optimizer.step()\n",
        "\n",
        "    print('Iteration {}, train accuracy {:.2f}, loss {:.4f}'.format(itr+epoch*len(train_loader),accuracy(y_pred,labels),loss))"
      ],
      "execution_count": 0,
      "outputs": []
    },
    {
      "metadata": {
        "colab_type": "code",
        "id": "-uCDk_z6_eV4",
        "colab": {}
      },
      "cell_type": "code",
      "source": [
        "vgg.eval()\n",
        "\n",
        "accuracies = []\n",
        "with torch.no_grad():\n",
        "  for itr,x in enumerate(validation_loader):\n",
        "    data = x[0]\n",
        "    labels = x[1]\n",
        "\n",
        "    optimizer.zero_grad()\n",
        "\n",
        "    data = data.to(device)\n",
        "    labels = labels.to(device)\n",
        "\n",
        "    y_pred = vgg.forward(data)\n",
        "    accuracies.append(accuracy(y_pred,labels))\n",
        "    \n",
        "\n",
        "print('accuracy {:.2f}'.format(np.mean(accuracies)))"
      ],
      "execution_count": 0,
      "outputs": []
    }
  ]
}